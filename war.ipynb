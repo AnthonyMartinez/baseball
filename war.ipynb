{
 "cells": [
  {
   "cell_type": "code",
   "execution_count": 29,
   "metadata": {},
   "outputs": [],
   "source": [
    "# data sources from fangraphs.com via the pybaseball module\n",
    "from pybaseball import statcast_single_game\n",
    "\n",
    "data = statcast_single_game(747203)\n"
   ]
  },
  {
   "cell_type": "code",
   "execution_count": 92,
   "metadata": {},
   "outputs": [],
   "source": [
    "# fangraphs weighs\n",
    "# TODO: figure out a way to automate this\n",
    "woba_24 = .310\t\n",
    "wobascale_24 = 1.272\n",
    "wbb_24 = .695\t\n",
    "whbp_24 = .727\t\n",
    "w1b_24 = .892\t\n",
    "w2b_24 = 1.273\t\n",
    "w3b_24  = 1.617\t\n",
    "whr_24 = 2.091\t\n",
    "runsb_24 = .200\t\n",
    "runcs_24 = -.400\t\n",
    "rpa_24 = .115\t\n",
    "rw = 9.584\t\n",
    "cfip = 3.150\n",
    "pf_dbacks = 1.0"
   ]
  },
  {
   "cell_type": "code",
   "execution_count": null,
   "metadata": {},
   "outputs": [],
   "source": [
    "# To calculate Batting Runs Above Average you only need to know three things about a player and several things about the league in general. You need the player’s wOBA, PA, and home park factor and you need League Average wOBA (lgwOBA), the wOBA Scale, MLB R/PA (lgR/PA), and the specific league (AL or NL) wRC and PA for non-pitchers. League wOBA, wOBA Scale, and R/PA can be found here. Park Factors can be found here and wRC and PA for the leagues can be found using the leaderboards.\n",
    "\n",
    "# The first step is to find Weighted Runs Above Average (wRAA) from the player’s wOBA, or you may simply find their wRAA on FanGraphs. To calculate their wRAA, do the following:\n",
    "\n",
    "\n",
    "# wRAA = ((wOBA – lgwOBA)/wOBA Scale) * PA\n",
    "wRAA = 0\n",
    "wOBA = 0\n",
    "lgwOBA = .310\t\n",
    "wOBA_scale = 1.278\t\n",
    "PA = 183\n",
    "\n",
    "data \n",
    "\n",
    "# wRAA is simply a non-adjusted Batting Runs. To adjust wRAA for park and league, you do the following with the park factor expressed as a decimal (i.e. 0.95 for 95):\n",
    "\n",
    "Batting Runs = wRAA + (lgR/PA – (PF*lgR/PA))*PA + (lgR/PA – (AL or NL non-pitcher wRC/PA))*PA\n",
    "\n",
    "Essentially, you are talking wRAA and adding or subtracting in runs based on their home park and their league."
   ]
  },
  {
   "cell_type": "code",
   "execution_count": 31,
   "metadata": {},
   "outputs": [],
   "source": [
    "import pandas as pd"
   ]
  },
  {
   "cell_type": "code",
   "execution_count": 30,
   "metadata": {},
   "outputs": [
    {
     "ename": "NameError",
     "evalue": "name 'pd' is not defined",
     "output_type": "error",
     "traceback": [
      "\u001b[0;31m---------------------------------------------------------------------------\u001b[0m",
      "\u001b[0;31mNameError\u001b[0m                                 Traceback (most recent call last)",
      "Cell \u001b[0;32mIn[30], line 2\u001b[0m\n\u001b[1;32m      1\u001b[0m games_data \u001b[38;5;241m=\u001b[39m [statcast_single_game(game) \u001b[38;5;28;01mfor\u001b[39;00m game \u001b[38;5;129;01min\u001b[39;00m games]\n\u001b[0;32m----> 2\u001b[0m data \u001b[38;5;241m=\u001b[39m \u001b[43mpd\u001b[49m\u001b[38;5;241m.\u001b[39mconcat(games_data)\n",
      "\u001b[0;31mNameError\u001b[0m: name 'pd' is not defined"
     ]
    }
   ],
   "source": [
    "games_data = [statcast_single_game(game) for game in games]\n",
    "    "
   ]
  },
  {
   "cell_type": "code",
   "execution_count": 33,
   "metadata": {},
   "outputs": [],
   "source": [
    "data = pd.concat(games_data)\n",
    "\n",
    "\n"
   ]
  },
  {
   "cell_type": "code",
   "execution_count": 18,
   "metadata": {},
   "outputs": [],
   "source": [
    "from pybaseball import cache \n",
    "cache.enable()"
   ]
  },
  {
   "cell_type": "code",
   "execution_count": 28,
   "metadata": {},
   "outputs": [],
   "source": [
    "# group by game_id\n",
    "games = list(set(data['game_pk']))\n"
   ]
  },
  {
   "cell_type": "code",
   "execution_count": 75,
   "metadata": {},
   "outputs": [
    {
     "name": "stdout",
     "output_type": "stream",
     "text": [
      "Gathering Player Data\n"
     ]
    }
   ],
   "source": [
    "from pybaseball import statcast, statcast_batter, playerid_lookup\n",
    "\n",
    "# data_latest = statcast(start_dt='2024-03-28', end_dt='2024-05-21', team=\"AZ\")\n",
    "# playerid_lookup('carroll', 'corbin') # 682998\n",
    "cncl = statcast_batter('2024-03-28', '2024-05-21',682998)"
   ]
  },
  {
   "cell_type": "code",
   "execution_count": 70,
   "metadata": {},
   "outputs": [],
   "source": [
    "# data = pd.concat([data, data_latest])\n",
    "data = data_latest.copy()"
   ]
  },
  {
   "cell_type": "code",
   "execution_count": 46,
   "metadata": {},
   "outputs": [],
   "source": [
    "data.to_csv('./dbacks_0521.csv')"
   ]
  },
  {
   "cell_type": "code",
   "execution_count": 79,
   "metadata": {},
   "outputs": [
    {
     "data": {
      "text/plain": [
       "field_out                    95\n",
       "strikeout                    38\n",
       "single                       26\n",
       "walk                         20\n",
       "force_out                     5\n",
       "double                        4\n",
       "triple                        2\n",
       "hit_by_pitch                  2\n",
       "fielders_choice               2\n",
       "field_error                   2\n",
       "home_run                      2\n",
       "grounded_into_double_play     1\n",
       "sac_fly                       1\n",
       "double_play                   1\n",
       "Name: events, dtype: int64"
      ]
     },
     "execution_count": 79,
     "metadata": {},
     "output_type": "execute_result"
    }
   ],
   "source": [
    "# data['events'].value_counts()\n",
    "cncl['events'].value_counts()\n",
    "# TODO: check these for IBBs"
   ]
  },
  {
   "cell_type": "code",
   "execution_count": 87,
   "metadata": {},
   "outputs": [
    {
     "name": "stdout",
     "output_type": "stream",
     "text": [
      "0.254\n"
     ]
    }
   ],
   "source": [
    "# cncl = data[data['player_name'] == 'Carroll, Corbin']  \n",
    "cncl_events = cncl['events']\n",
    "# plate appearences\n",
    "pa = cncl['events'].count()\n",
    "bb = cncl_events[cncl_events == 'walk'].count()\n",
    "hbp = cncl_events[cncl_events == 'hit_by_pitch'].count()\n",
    "b1 = cncl_events[cncl_events == 'single'].count()\n",
    "b2 = cncl_events[cncl_events == 'double'].count()\n",
    "b3 = cncl_events[cncl_events == 'triple'].count()\n",
    "hr  = cncl_events[cncl_events == 'home_run'].count()\n",
    "# TODO implement IBB\n",
    "# ibb  = cncl_events['walk']\n",
    "ibb  = 0\n",
    "sf  = cncl_events[cncl_events == 'sac_fly'].count()\n",
    "# TODO implement sac\n",
    "error = cncl_events[cncl_events == 'field_error'].count() \n",
    "ab  = pa - bb - sf - error\n",
    "\n",
    "woba = (\n",
    "    bb * wbb_24  \n",
    "    + hbp * whbp_24 \n",
    "    + b1 * w1b_24 \n",
    "    + b2 * w2b_24 \n",
    "    + b3 * w3b_24 \n",
    "    + hr * whr_24\n",
    ")/(ab + bb - ibb + sf + hbp)\n",
    "\n",
    "print(woba)\n",
    "\n"
   ]
  },
  {
   "cell_type": "code",
   "execution_count": 116,
   "metadata": {},
   "outputs": [],
   "source": [
    "def woba_top(event, pos):\n",
    "    top = 0\n",
    "    bottom = 0\n",
    "    if event == 'walk':\n",
    "        top = wbb_24\n",
    "        bottom = 1\n",
    "    if event == 'hit_by_pitch':\n",
    "        top = whbp_24\n",
    "        bottom = 1\n",
    "    if event == 'single':\n",
    "        top = w1b_24\n",
    "        bottom = 1\n",
    "    if event == 'double':\n",
    "        top = w2b_24\n",
    "        bottom = 1\n",
    "    if event == 'triple':\n",
    "        top = w3b_24\n",
    "        bottom = 1\n",
    "    if event == 'home_run':\n",
    "        top = whr_24\n",
    "        bottom = 1\n",
    "    if event == 'sac_fly':\n",
    "        top = 0\n",
    "        bottom = 1\n",
    "    \n",
    "    if pos == 0:\n",
    "        return(top)\n",
    "    if pos == 1:\n",
    "        return(bottom)\n",
    "    \n",
    "    \n"
   ]
  },
  {
   "cell_type": "code",
   "execution_count": 119,
   "metadata": {},
   "outputs": [],
   "source": [
    "cncl['woba_top'] = [woba_top(e, 0) for e in cncl['events']]\n",
    "cncl['woba_bottom'] = [woba_top(e, 1) for e in cncl['events']]\n",
    "cncl['woba_top_diff'] = cncl['woba_top'] - cncl['woba_value']"
   ]
  },
  {
   "cell_type": "code",
   "execution_count": 86,
   "metadata": {},
   "outputs": [
    {
     "name": "stdout",
     "output_type": "stream",
     "text": [
      "0.695 0.727 0.892 1.273 1.617 2.091\n",
      "20 2 26 4 2 2\n",
      "178 20 0 2\n",
      "2 2 1\n"
     ]
    }
   ],
   "source": [
    "print(wbb_24, whbp_24, w1b_24, w2b_24, w3b_24, whr_24)\n",
    "print(bb, hbp, b1, b2, b3, hr)\n",
    "print(ab, bb, ibb, hbp)\n",
    "print(hbp, error, sf)"
   ]
  },
  {
   "cell_type": "code",
   "execution_count": 93,
   "metadata": {},
   "outputs": [
    {
     "data": {
      "text/plain": [
       "-8.849056603773585"
      ]
     },
     "execution_count": 93,
     "metadata": {},
     "output_type": "execute_result"
    }
   ],
   "source": [
    "# calculating batting runs\n",
    "wraa = ((woba - woba_24) / wobascale_24) * pa\n",
    "\n",
    "wraa + (rpa_24 - (pf_dbacks*rpa_24)) * pa"
   ]
  },
  {
   "cell_type": "code",
   "execution_count": null,
   "metadata": {},
   "outputs": [],
   "source": [
    "# grouping "
   ]
  }
 ],
 "metadata": {
  "kernelspec": {
   "display_name": "analytics",
   "language": "python",
   "name": "python3"
  },
  "language_info": {
   "codemirror_mode": {
    "name": "ipython",
    "version": 3
   },
   "file_extension": ".py",
   "mimetype": "text/x-python",
   "name": "python",
   "nbconvert_exporter": "python",
   "pygments_lexer": "ipython3",
   "version": "3.10.14"
  },
  "orig_nbformat": 4
 },
 "nbformat": 4,
 "nbformat_minor": 2
}
