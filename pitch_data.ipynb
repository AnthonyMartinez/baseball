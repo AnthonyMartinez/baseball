{
 "cells": [
  {
   "attachments": {},
   "cell_type": "markdown",
   "metadata": {},
   "source": [
    "# Predicting Pitch Performance in Baseball with MLB Statcast Data"
   ]
  },
  {
   "attachments": {},
   "cell_type": "markdown",
   "metadata": {},
   "source": [
    "**Introduction**\n",
    "\n",
    "Even at professional baseballs highest level, some pitcher are simply much better than others. What is more interesting yet is that even among a single pitchers arsenal of fastballs (balls pitched with a high velocity), breaking pitches (balls that exibit sudden breaks in horizontal and vertical movement), and changeups (balls that mimic fastballs but with a deceptively slower velocities)- some pitch types are also better than others!\n",
    "\n",
    "Since 2014- Major League Baseball has utilized radar and camera systems at every game to amass a fascinating dataset that tracks everything from pitch velocity, the spin rate of the pitched ball itself, the exit velocity of hit balls, and more. We can access this data to try and predict: given some data on a given pitcher's pitch type, how good can we expect it to be? \n",
    "\n",
    "In this notebook- we will compare two different regression techniques: Linear Regression, and Random Forest Regressor. Additionally- we'll utilize Ridge Regression with our Linear Regression model to see if it can benefit from some degree of regularization. "
   ]
  },
  {
   "cell_type": "code",
   "execution_count": 147,
   "metadata": {},
   "outputs": [],
   "source": [
    "import numpy as np\n",
    "import matplotlib.pyplot as plt\n",
    "import pandas as pd\n",
    "\n",
    "from sklearn.preprocessing import StandardScaler\n",
    "from sklearn.model_selection import train_test_split\n",
    "from sklearn.metrics import mean_squared_error\n",
    "\n",
    "from sklearn.ensemble import RandomForestRegressor \n",
    "from sklearn import linear_model"
   ]
  },
  {
   "attachments": {},
   "cell_type": "markdown",
   "metadata": {},
   "source": [
    "**Dataset**\n",
    "\n",
    "We'll look at data for the 2018 season specifically (baseball circa the COVID-19 lockdown got a little strange and difficult to compare). We access this from a Kaggle [link](https://www.kaggle.com/datasets/s903124/mlb-statcast-data?select=Statcast_2018.csv) which has data sourced from MLB's website, [Baseball Savant](https://baseballsavant.mlb.com/).\n",
    "\n",
    "This statcast data is on a pitch-by-pitch level, the metric that we want to project onto is on an at-bat (a batter vs. pitcher matchup that consists of a sequence of pitches)- so we will need to aggregate this data before fitting out model. \n",
    "\n",
    "**Variables** \n",
    "\n",
    "We'll look at 11 different features: \n",
    "1. `release_speed`: the velocity of the ball as it leaves the hand of the pitcher, in miles per hour.\n",
    "2. `release_pos_x`: the horizontal level of the ball as it leaves the hand of the pitcher from the batter's perspective (left to right) in feet.\n",
    "3. `release_pos_z`: the vertical level of the ball as it leaves the hand of the pitcher, in feet form the ground.\n",
    "4. `pfx_x`: horizontal movement in feet from the batter's perspective.\n",
    "5. `pfx_z`: vertical movement in feet from the batter's perspective. Generally, the more movement a pitch exhibits, the more difficult it is for the hitter to track and hit. \n",
    "6. `vx0`: in feet per second, the velocity in the x dimension at 50 feet from the batter (out of 60 feet, 6 inches).\n",
    "7. `vy0`: in feet per second, the velocity in the y dimension at 50 feet from the batter.\n",
    "8. `vz0`: in feet per second, the velocity in the z dimension at 50 feet from the batter.\n",
    "9. `release_extension`: how far out from the designated pitching spot (the rubber) the pitcher's hand is when the ball is pitched- some pitchers are able to extend exceptionally far, which decreases the overall distance the ball travels to the batter, resulting in a higher relative velocity!\n",
    "10. `release_spin_rate`: the spin rate of the pitch, in rotations per minute. Utilizing the [Magnus Effect](https://en.wikipedia.org/wiki/Magnus_effect), pitch delivered with a high rate of spin can exhibit unexpected movement, such as fastballs that seem to \"float\" to their target (a four-seam fastball), or breaking pitches that \"break\" sharply to the ground or side on the way to the batter. \n",
    "11. `spin_axis`: the axis in the 2D X-Z plane in degrees from 0 to 360. 90 degress would represent a ball rotating perfectly clockwise from the perspective of a batter, 270 would be perfectly counter-clockwise. In terms of pitch types, 180 would be pure backspin resulting in a ball with a few inches of \"rise\" compared to a typical pitch, and 0 would be pure front spin, resulting in a ball with a few inches of \"drop\" (a \"curveball\"). \n",
    "\n",
    "\n",
    "\n"
   ]
  },
  {
   "cell_type": "code",
   "execution_count": 234,
   "metadata": {},
   "outputs": [],
   "source": [
    "# data from MLB statcast, 2018 season\n",
    "df = pd.read_csv('/Users/ajmart15/Downloads/statcast/Statcast_2018.csv')\n",
    "\n",
    "\n",
    "df = df[['pitcher',     # we will be grouping by pitcher and pitch type in the next section- these\n",
    "          'pitch_type', # will not be used as features\n",
    "          'release_speed', \n",
    "          'release_pos_x', \n",
    "          'release_pos_z', \n",
    "          'pfx_x', \n",
    "          'pfx_z', \n",
    "          'vx0',\n",
    "          'vy0',\n",
    "          'vz0',\n",
    "          'release_extension', \n",
    "          'release_spin_rate', \n",
    "          'spin_axis', \n",
    "          'woba_value', # this and the denom will be summed up to get our y values\n",
    "          'woba_denom', \n",
    "          'events']] # this will be use to filter only to pitches that resulted in an outcome\n",
    "                     # as opposed to pitches that only result in balls, strikes, foul balls etc. \n"
   ]
  },
  {
   "attachments": {},
   "cell_type": "markdown",
   "metadata": {},
   "source": [
    "**Target Value**\n",
    "\n",
    "In baseball, there are lots of ways to measure the effectiveness of a pitcher, but my favorite way its to ask, how good did opposing batters perform?\n",
    "\n",
    "In this question, we also have many different ways to measure the effectiveness of a batter- such as batting average (how often the batter puts the ball in to play). Something that is nice about the Statcast dataset, is that when a pitch results in an event (such as a strike out, a ball put into play, walk, home run, etc) the pitch has an assigned value and denominator of 1, which can then be summed into a very effective batting metric, Weighted On-Base Average or `wOBA`. This is a somewhat complicated stat to explain, but in essense, it weights the different outcomes (a home run is a very positive outcome, while a strike out is a very negative outcome) in a way that distills a batters total offensive output in a single number.\n",
    "\n",
    "For context, an excellent wOBA would be `.400`, an average is about `.320` and a poor one would be `.290` or less.\n",
    "\n",
    "**Data Transformation**\n",
    "\n",
    "1. We want to narrow our dataset to only pitches that are measurable- that is, only pitches that result in an event like a hit or out (and will have a corresponding `woba_value` and a `woba_denom` of 1). \n",
    "\n",
    "2. We then group all our pitches by pitcher and pitch type. For example, pitcher `Zac Gallen` throws a four-seam fast ball (`FF`), a cut fastball (`FC`), a changeup (`CH`), a slider (`SU`), and a curveball (`CU`). This would result in 5 rows in our final dataset. \n",
    "\n",
    "    **NOTE:** from this point on, I will denote references to these rows (pitcher / pitch type combination) as `PITCHES`.\n",
    "\n",
    "3. For each of our variables, we will take the mean of the values being grouped, except for `pitcher` which we will `count` for a later step, and `woba_value` and `woba_denom` which we will sum. \n",
    "\n",
    "4. While pitchers generally only have a few pitches that they throw well enough to rely on, occasionaly a pitcher might throw an unusual or \"junk\" pitch out of desperation or the desire to be less predictable. This is fine, but sometimes results in small sample sizes which might make a pitch look especially good or bad on a rate basis. To try to control for this, we'll only consider `PITCHES` with `n` of 10 or more.\n"
   ]
  },
  {
   "cell_type": "code",
   "execution_count": 235,
   "metadata": {},
   "outputs": [],
   "source": [
    "# we only want pitches that result in events and have a corresponding woba_value\n",
    "df = df[~df['events'].isna()]\n",
    "\n",
    "# we group by pitcher and then pitch_type\n",
    "# we count pitcher to get 'n', sum the woba_values and _denom, and average the others\n",
    "df = df.groupby(by=['pitcher','pitch_type']).agg({\n",
    "    'pitcher': 'count',\n",
    "    'release_speed': 'mean',\n",
    "    'release_pos_x': 'mean', \n",
    "    'release_pos_z': 'mean', \n",
    "    'pfx_x': 'mean', \n",
    "    'pfx_z': 'mean', \n",
    "    'vx0': 'mean',\n",
    "    'vy0': 'mean',\n",
    "    'vz0': 'mean',\n",
    "    'release_extension': 'mean', \n",
    "    'release_spin_rate': 'mean', \n",
    "    'spin_axis': 'mean' , \n",
    "    'woba_value': 'sum',\n",
    "    'woba_denom': 'sum',\n",
    "})\n",
    "\n",
    "# we only want PITCHES that have 10 or more events\n",
    "df = df[df.iloc[:,0] >= 10]\n"
   ]
  },
  {
   "cell_type": "code",
   "execution_count": 237,
   "metadata": {},
   "outputs": [
    {
     "data": {
      "text/html": [
       "<div>\n",
       "<style scoped>\n",
       "    .dataframe tbody tr th:only-of-type {\n",
       "        vertical-align: middle;\n",
       "    }\n",
       "\n",
       "    .dataframe tbody tr th {\n",
       "        vertical-align: top;\n",
       "    }\n",
       "\n",
       "    .dataframe thead th {\n",
       "        text-align: right;\n",
       "    }\n",
       "</style>\n",
       "<table border=\"1\" class=\"dataframe\">\n",
       "  <thead>\n",
       "    <tr style=\"text-align: right;\">\n",
       "      <th></th>\n",
       "      <th></th>\n",
       "      <th>pitcher</th>\n",
       "      <th>release_speed</th>\n",
       "      <th>release_pos_x</th>\n",
       "      <th>release_pos_z</th>\n",
       "      <th>pfx_x</th>\n",
       "      <th>pfx_z</th>\n",
       "      <th>vx0</th>\n",
       "      <th>vy0</th>\n",
       "      <th>vz0</th>\n",
       "      <th>release_extension</th>\n",
       "      <th>release_spin_rate</th>\n",
       "      <th>spin_axis</th>\n",
       "      <th>woba_value</th>\n",
       "      <th>woba_denom</th>\n",
       "    </tr>\n",
       "    <tr>\n",
       "      <th>pitcher</th>\n",
       "      <th>pitch_type</th>\n",
       "      <th></th>\n",
       "      <th></th>\n",
       "      <th></th>\n",
       "      <th></th>\n",
       "      <th></th>\n",
       "      <th></th>\n",
       "      <th></th>\n",
       "      <th></th>\n",
       "      <th></th>\n",
       "      <th></th>\n",
       "      <th></th>\n",
       "      <th></th>\n",
       "      <th></th>\n",
       "      <th></th>\n",
       "    </tr>\n",
       "  </thead>\n",
       "  <tbody>\n",
       "    <tr>\n",
       "      <th rowspan=\"5\" valign=\"top\">112526</th>\n",
       "      <th>CH</th>\n",
       "      <td>69</td>\n",
       "      <td>80.737681</td>\n",
       "      <td>-1.510000</td>\n",
       "      <td>5.458406</td>\n",
       "      <td>-1.147826</td>\n",
       "      <td>0.648551</td>\n",
       "      <td>4.390495</td>\n",
       "      <td>-117.297538</td>\n",
       "      <td>-2.648621</td>\n",
       "      <td>5.246377</td>\n",
       "      <td>1649.913043</td>\n",
       "      <td>240.724638</td>\n",
       "      <td>33.15</td>\n",
       "      <td>69.0</td>\n",
       "    </tr>\n",
       "    <tr>\n",
       "      <th>FC</th>\n",
       "      <td>20</td>\n",
       "      <td>85.365000</td>\n",
       "      <td>-1.597500</td>\n",
       "      <td>5.534000</td>\n",
       "      <td>-0.095500</td>\n",
       "      <td>1.087500</td>\n",
       "      <td>2.453385</td>\n",
       "      <td>-124.159343</td>\n",
       "      <td>-3.146604</td>\n",
       "      <td>5.125000</td>\n",
       "      <td>2283.350000</td>\n",
       "      <td>184.400000</td>\n",
       "      <td>8.45</td>\n",
       "      <td>20.0</td>\n",
       "    </tr>\n",
       "    <tr>\n",
       "      <th>FF</th>\n",
       "      <td>87</td>\n",
       "      <td>89.878161</td>\n",
       "      <td>-1.176322</td>\n",
       "      <td>5.661609</td>\n",
       "      <td>-0.668276</td>\n",
       "      <td>1.358966</td>\n",
       "      <td>3.967465</td>\n",
       "      <td>-130.575652</td>\n",
       "      <td>-4.429238</td>\n",
       "      <td>5.120690</td>\n",
       "      <td>2300.333333</td>\n",
       "      <td>205.793103</td>\n",
       "      <td>24.80</td>\n",
       "      <td>87.0</td>\n",
       "    </tr>\n",
       "    <tr>\n",
       "      <th>FT</th>\n",
       "      <td>406</td>\n",
       "      <td>87.035961</td>\n",
       "      <td>-1.503300</td>\n",
       "      <td>5.419680</td>\n",
       "      <td>-1.411108</td>\n",
       "      <td>0.633276</td>\n",
       "      <td>6.027715</td>\n",
       "      <td>-126.353424</td>\n",
       "      <td>-2.270275</td>\n",
       "      <td>5.169212</td>\n",
       "      <td>2133.958128</td>\n",
       "      <td>245.768473</td>\n",
       "      <td>150.55</td>\n",
       "      <td>404.0</td>\n",
       "    </tr>\n",
       "    <tr>\n",
       "      <th>SL</th>\n",
       "      <td>46</td>\n",
       "      <td>80.834783</td>\n",
       "      <td>-1.554783</td>\n",
       "      <td>5.512174</td>\n",
       "      <td>0.350217</td>\n",
       "      <td>0.093478</td>\n",
       "      <td>3.792424</td>\n",
       "      <td>-117.490789</td>\n",
       "      <td>-1.496714</td>\n",
       "      <td>4.763043</td>\n",
       "      <td>2384.951220</td>\n",
       "      <td>105.173913</td>\n",
       "      <td>14.80</td>\n",
       "      <td>46.0</td>\n",
       "    </tr>\n",
       "  </tbody>\n",
       "</table>\n",
       "</div>"
      ],
      "text/plain": [
       "                    pitcher  release_speed  release_pos_x  release_pos_z  \\\n",
       "pitcher pitch_type                                                         \n",
       "112526  CH               69      80.737681      -1.510000       5.458406   \n",
       "        FC               20      85.365000      -1.597500       5.534000   \n",
       "        FF               87      89.878161      -1.176322       5.661609   \n",
       "        FT              406      87.035961      -1.503300       5.419680   \n",
       "        SL               46      80.834783      -1.554783       5.512174   \n",
       "\n",
       "                       pfx_x     pfx_z       vx0         vy0       vz0  \\\n",
       "pitcher pitch_type                                                       \n",
       "112526  CH         -1.147826  0.648551  4.390495 -117.297538 -2.648621   \n",
       "        FC         -0.095500  1.087500  2.453385 -124.159343 -3.146604   \n",
       "        FF         -0.668276  1.358966  3.967465 -130.575652 -4.429238   \n",
       "        FT         -1.411108  0.633276  6.027715 -126.353424 -2.270275   \n",
       "        SL          0.350217  0.093478  3.792424 -117.490789 -1.496714   \n",
       "\n",
       "                    release_extension  release_spin_rate   spin_axis  \\\n",
       "pitcher pitch_type                                                     \n",
       "112526  CH                   5.246377        1649.913043  240.724638   \n",
       "        FC                   5.125000        2283.350000  184.400000   \n",
       "        FF                   5.120690        2300.333333  205.793103   \n",
       "        FT                   5.169212        2133.958128  245.768473   \n",
       "        SL                   4.763043        2384.951220  105.173913   \n",
       "\n",
       "                    woba_value  woba_denom  \n",
       "pitcher pitch_type                          \n",
       "112526  CH               33.15        69.0  \n",
       "        FC                8.45        20.0  \n",
       "        FF               24.80        87.0  \n",
       "        FT              150.55       404.0  \n",
       "        SL               14.80        46.0  "
      ]
     },
     "execution_count": 237,
     "metadata": {},
     "output_type": "execute_result"
    }
   ],
   "source": [
    "df.head()"
   ]
  },
  {
   "attachments": {},
   "cell_type": "markdown",
   "metadata": {},
   "source": [
    "**Data Transformation, Part 2**\n",
    "\n",
    "5. To prepare the data set to be fit, we drop the `count(pitcher)` column, and set the result as our `X` (this is an extra step because we also have `pitcher` as an index, which pandas dislikes). \n",
    "\n",
    "6. `pitcher` and `pitch_type` also remain from the grouping as an index, which we reset using `reset_index()`.\n",
    "\n",
    "7. We calculate `woba` and set it as our target value `y`.\n",
    "\n",
    "8. We drop `pitcher`, `pitch_type`, `woba`, `woba_value`, and `woba_denom`.\n"
   ]
  },
  {
   "cell_type": "code",
   "execution_count": null,
   "metadata": {},
   "outputs": [],
   "source": [
    "# drop count(pitcher) set result as X\n",
    "X = df.iloc[:,1:]\n",
    "\n",
    "# reset index\n",
    "X = X.reset_index()\n",
    "\n",
    "# calculate woba, set as our y. \n",
    "X['woba'] = X['woba_value'] / X['woba_denom']\n",
    "y = X['woba']\n",
    "\n",
    "# drop pitcher, pitch type, woba_value and _denom\n",
    "X = X.drop(columns=['pitcher', 'pitch_type', 'woba', 'woba_value', 'woba_denom'])"
   ]
  },
  {
   "cell_type": "code",
   "execution_count": 244,
   "metadata": {},
   "outputs": [
    {
     "data": {
      "text/html": [
       "<div>\n",
       "<style scoped>\n",
       "    .dataframe tbody tr th:only-of-type {\n",
       "        vertical-align: middle;\n",
       "    }\n",
       "\n",
       "    .dataframe tbody tr th {\n",
       "        vertical-align: top;\n",
       "    }\n",
       "\n",
       "    .dataframe thead th {\n",
       "        text-align: right;\n",
       "    }\n",
       "</style>\n",
       "<table border=\"1\" class=\"dataframe\">\n",
       "  <thead>\n",
       "    <tr style=\"text-align: right;\">\n",
       "      <th></th>\n",
       "      <th>release_speed</th>\n",
       "      <th>release_pos_x</th>\n",
       "      <th>release_pos_z</th>\n",
       "      <th>pfx_x</th>\n",
       "      <th>pfx_z</th>\n",
       "      <th>vx0</th>\n",
       "      <th>vy0</th>\n",
       "      <th>vz0</th>\n",
       "      <th>release_extension</th>\n",
       "      <th>release_spin_rate</th>\n",
       "      <th>spin_axis</th>\n",
       "    </tr>\n",
       "  </thead>\n",
       "  <tbody>\n",
       "    <tr>\n",
       "      <th>0</th>\n",
       "      <td>80.737681</td>\n",
       "      <td>-1.510000</td>\n",
       "      <td>5.458406</td>\n",
       "      <td>-1.147826</td>\n",
       "      <td>0.648551</td>\n",
       "      <td>4.390495</td>\n",
       "      <td>-117.297538</td>\n",
       "      <td>-2.648621</td>\n",
       "      <td>5.246377</td>\n",
       "      <td>1649.913043</td>\n",
       "      <td>240.724638</td>\n",
       "    </tr>\n",
       "    <tr>\n",
       "      <th>1</th>\n",
       "      <td>85.365000</td>\n",
       "      <td>-1.597500</td>\n",
       "      <td>5.534000</td>\n",
       "      <td>-0.095500</td>\n",
       "      <td>1.087500</td>\n",
       "      <td>2.453385</td>\n",
       "      <td>-124.159343</td>\n",
       "      <td>-3.146604</td>\n",
       "      <td>5.125000</td>\n",
       "      <td>2283.350000</td>\n",
       "      <td>184.400000</td>\n",
       "    </tr>\n",
       "    <tr>\n",
       "      <th>2</th>\n",
       "      <td>89.878161</td>\n",
       "      <td>-1.176322</td>\n",
       "      <td>5.661609</td>\n",
       "      <td>-0.668276</td>\n",
       "      <td>1.358966</td>\n",
       "      <td>3.967465</td>\n",
       "      <td>-130.575652</td>\n",
       "      <td>-4.429238</td>\n",
       "      <td>5.120690</td>\n",
       "      <td>2300.333333</td>\n",
       "      <td>205.793103</td>\n",
       "    </tr>\n",
       "    <tr>\n",
       "      <th>3</th>\n",
       "      <td>87.035961</td>\n",
       "      <td>-1.503300</td>\n",
       "      <td>5.419680</td>\n",
       "      <td>-1.411108</td>\n",
       "      <td>0.633276</td>\n",
       "      <td>6.027715</td>\n",
       "      <td>-126.353424</td>\n",
       "      <td>-2.270275</td>\n",
       "      <td>5.169212</td>\n",
       "      <td>2133.958128</td>\n",
       "      <td>245.768473</td>\n",
       "    </tr>\n",
       "    <tr>\n",
       "      <th>4</th>\n",
       "      <td>80.834783</td>\n",
       "      <td>-1.554783</td>\n",
       "      <td>5.512174</td>\n",
       "      <td>0.350217</td>\n",
       "      <td>0.093478</td>\n",
       "      <td>3.792424</td>\n",
       "      <td>-117.490789</td>\n",
       "      <td>-1.496714</td>\n",
       "      <td>4.763043</td>\n",
       "      <td>2384.951220</td>\n",
       "      <td>105.173913</td>\n",
       "    </tr>\n",
       "  </tbody>\n",
       "</table>\n",
       "</div>"
      ],
      "text/plain": [
       "   release_speed  release_pos_x  release_pos_z     pfx_x     pfx_z       vx0  \\\n",
       "0      80.737681      -1.510000       5.458406 -1.147826  0.648551  4.390495   \n",
       "1      85.365000      -1.597500       5.534000 -0.095500  1.087500  2.453385   \n",
       "2      89.878161      -1.176322       5.661609 -0.668276  1.358966  3.967465   \n",
       "3      87.035961      -1.503300       5.419680 -1.411108  0.633276  6.027715   \n",
       "4      80.834783      -1.554783       5.512174  0.350217  0.093478  3.792424   \n",
       "\n",
       "          vy0       vz0  release_extension  release_spin_rate   spin_axis  \n",
       "0 -117.297538 -2.648621           5.246377        1649.913043  240.724638  \n",
       "1 -124.159343 -3.146604           5.125000        2283.350000  184.400000  \n",
       "2 -130.575652 -4.429238           5.120690        2300.333333  205.793103  \n",
       "3 -126.353424 -2.270275           5.169212        2133.958128  245.768473  \n",
       "4 -117.490789 -1.496714           4.763043        2384.951220  105.173913  "
      ]
     },
     "execution_count": 244,
     "metadata": {},
     "output_type": "execute_result"
    }
   ],
   "source": [
    "X.head()"
   ]
  },
  {
   "cell_type": "code",
   "execution_count": 256,
   "metadata": {},
   "outputs": [
    {
     "data": {
      "text/plain": [
       "2307"
      ]
     },
     "execution_count": 256,
     "metadata": {},
     "output_type": "execute_result"
    }
   ],
   "source": [
    "len(X)"
   ]
  },
  {
   "cell_type": "code",
   "execution_count": 246,
   "metadata": {},
   "outputs": [
    {
     "data": {
      "text/plain": [
       "0    0.480435\n",
       "1    0.422500\n",
       "2    0.285057\n",
       "3    0.372649\n",
       "4    0.321739\n",
       "Name: woba, dtype: float64"
      ]
     },
     "execution_count": 246,
     "metadata": {},
     "output_type": "execute_result"
    }
   ],
   "source": [
    "y.head()"
   ]
  },
  {
   "attachments": {},
   "cell_type": "markdown",
   "metadata": {},
   "source": [
    "**Data Transformation, Final**\n",
    "\n",
    "9. Set `SEED`, split `X` and `y` into training and test sets (`.75` and `.25` respectively)\n",
    "\n",
    "10. one of the models is sensitive to scale, so we run all our input values through a `StandardScaler()`.\n",
    "\n"
   ]
  },
  {
   "cell_type": "code",
   "execution_count": null,
   "metadata": {},
   "outputs": [],
   "source": [
    "SEED = 432\n",
    "X_train, X_test, y_train, y_test = train_test_split(X, y, test_size=0.25, random_state=SEED)\n",
    "\n",
    "scaler = StandardScaler()\n",
    "scaler.fit(X_train)\n",
    "\n",
    "X_train = scaler.transform(X_train)\n",
    "X_test = scaler.transform(X_test)"
   ]
  },
  {
   "attachments": {},
   "cell_type": "markdown",
   "metadata": {},
   "source": [
    "**Modeling Data: Linear Model with Ridge**\n",
    "\n",
    "First, we'll start off with a Linear Model: this should be a good baseline to compare other techniques against, and by using regularization- specifically Ridge regression, we might be able to see if get a little variable selection by shrinkage, which may be preferable since we have relatively few variables. We will try some values of `alpha` in decreasing complexity and see which one performs best. \n",
    "\n",
    "`sklearn` also has options out of the box to do cross-validation. Since our dataset is not very large (`n=2307`), we can actually set `cv=None` and direct `RidgeCV` to use Leave-One-Out as our CV strategy. \n",
    "\n",
    "We can then have `RidgeCV` output the `MSE` for all the cross-validations for each of the values of `alpha`, which we can then average together and decide on the best base on `RMSE`. \n"
   ]
  },
  {
   "cell_type": "code",
   "execution_count": 274,
   "metadata": {},
   "outputs": [
    {
     "name": "stdout",
     "output_type": "stream",
     "text": [
      "alpha value: 0.1\t mean RMSE: 0.10087703237325908\n",
      "alpha value: 1\t mean RMSE: 0.10096388223504842\n",
      "alpha value: 10\t mean RMSE: 0.10100898069748274\n",
      "alpha value: 1000\t mean RMSE: 0.10258250229818094\n"
     ]
    }
   ],
   "source": [
    "\n",
    "# a few ranges of alpha\n",
    "alpha_values = [.1, 1, 10, 1000]\n",
    "\n",
    "model = linear_model.RidgeCV(\n",
    "    alphas=alpha_values, # regularization coefficent\n",
    "    cv=None, # defaults to LOOCV\n",
    "    store_cv_values=True\n",
    ")\n",
    "\n",
    "model.fit(X_train, y_train)\n",
    "\n",
    "# calculate RMSE for values of alpha\n",
    "alpha_rmse = np.mean(model.cv_values_, axis=0)**(1/2)\n",
    "for i, a in enumerate(alpha_rmse):\n",
    "    print(f\"alpha value: {alpha_values[i]}\\t mean RMSE: {a}\")\n"
   ]
  },
  {
   "cell_type": "code",
   "execution_count": 277,
   "metadata": {},
   "outputs": [
    {
     "data": {
      "image/png": "[encoded data removed]",
      "text/plain": [
       "<Figure size 640x480 with 1 Axes>"
      ]
     },
     "metadata": {},
     "output_type": "display_data"
    }
   ],
   "source": [
    "# display weights of fitted model \n",
    "model.coef_\n",
    "\n",
    "\n",
    "forest_importances = pd.Series(model.coef_, index=list(X.columns))\n",
    "\n",
    "# std = np.std([model.feature_importances_ for tree in model.estimators_], axis=0)\n",
    "\n",
    "fig, ax = plt.subplots()\n",
    "forest_importances.plot.bar(ax=ax)\n",
    "ax.set_title(\"Feature weights in Linear Regression\")\n",
    "fig.tight_layout()"
   ]
  },
  {
   "cell_type": "code",
   "execution_count": 259,
   "metadata": {},
   "outputs": [
    {
     "data": {
      "text/plain": [
       "0.1"
      ]
     },
     "execution_count": 259,
     "metadata": {},
     "output_type": "execute_result"
    }
   ],
   "source": [
    "# display best regularization parameter\n",
    "model.alpha_"
   ]
  },
  {
   "cell_type": "code",
   "execution_count": 260,
   "metadata": {},
   "outputs": [
    {
     "name": "stdout",
     "output_type": "stream",
     "text": [
      "alpha value: 0.1\t out-of-sample RMSE: 0.09665857756082627\n"
     ]
    }
   ],
   "source": [
    "\n",
    "y_pred = model.predict(X_test)\n",
    "\n",
    "rmse = mean_squared_error(y_test, y_pred)**(1/2)\n",
    "\n",
    "print(f\"alpha value: {model.alpha_}\\t out-of-sample RMSE: {rmse}\")"
   ]
  },
  {
   "attachments": {},
   "cell_type": "markdown",
   "metadata": {},
   "source": [
    "**Linear Model with Ridge, Conclusions**\n",
    "\n",
    "Interestingly, we see that RidgeCV has chosen the lowest value, `alpha=0.1` as the winning regularization parameter- meaning that the most complex version of our model ended up performing the best (though the difference is quite small).\n",
    "\n",
    "Examining the weights we see that `release_speed` is the biggest variable coefficient, followed closely by `vy0` - this makes sense, because `vy0` is basically the release_speed after traveling about 10ft of distance. On the other hand, the model puts little weight into `release_spin_rate`- much less than the corresponding `spin_axis`. This suggests that pure spin rate is perhaps less important than being able to spin pitches in a certain orientation, a potential new variable for a future version of the model.\n",
    "\n",
    "Finally, we make our predictions on our test set and get the resulting RMSE- `0.096`. This seems fine as a starting point, but we can hope for potentail improvement with a different technique- an error value like this means that we're unsure if a `PITCH` is average (`.320`) or terrible (`.416`)!"
   ]
  },
  {
   "attachments": {},
   "cell_type": "markdown",
   "metadata": {},
   "source": [
    "**Modeling Data, Random Forest**\n",
    "\n",
    "Now, we'll see if we can beat that performance by using a Random Forest. We'll use the standard `RandomForestRegressor` model and try a small range of estimators that determine the number of trees in the forest. Finally, we will predict our test set onto the fitted model- we expect that out-of-sample performance will be poor, but we can see if we can perform better than our linear model. "
   ]
  },
  {
   "cell_type": "code",
   "execution_count": 262,
   "metadata": {},
   "outputs": [
    {
     "name": "stdout",
     "output_type": "stream",
     "text": [
      "# of estimators: 4\t out-of-sample RMSE: 0.05482351071122553\n",
      "# of estimators: 11\t out-of-sample RMSE: 0.044901484244536674\n",
      "# of estimators: 24\t out-of-sample RMSE: 0.04215418984010329\n",
      "# of estimators: 54\t out-of-sample RMSE: 0.03942318620419858\n",
      "# of estimators: 121\t out-of-sample RMSE: 0.038271946131819966\n",
      "# of estimators: 270\t out-of-sample RMSE: 0.03766902159274282\n",
      "# of estimators: 601\t out-of-sample RMSE: 0.037432506638280245\n",
      "# of estimators: 1339\t out-of-sample RMSE: 0.037406923575448996\n"
     ]
    }
   ],
   "source": [
    "est_values = [int(np.floor(np.exp(x * .8))) for x in range(2, 10)]\n",
    "\n",
    "for e in est_values:\n",
    "    model = RandomForestRegressor(n_estimators=e, random_state=SEED)\n",
    "    model.fit(X_train, y_train)\n",
    "\n",
    "    y_pred = model.predict(X_train)\n",
    "\n",
    "    rmse = mean_squared_error(y_train, y_pred)**(1/2)\n",
    "\n",
    "    print(f\"# of estimators: {e}\\t out-of-sample RMSE: {rmse}\")\n",
    "    "
   ]
  },
  {
   "cell_type": "code",
   "execution_count": 278,
   "metadata": {},
   "outputs": [
    {
     "name": "stdout",
     "output_type": "stream",
     "text": [
      "# of estimators: 1339\t out-of-sample RMSE: 0.09783785443009795\n"
     ]
    }
   ],
   "source": [
    "model = RandomForestRegressor(n_estimators=1339, random_state=SEED)\n",
    "model.fit(X_train, y_train)\n",
    "\n",
    "y_pred = model.predict(X_test)\n",
    "\n",
    "rmse = mean_squared_error(y_test, y_pred)**(1/2)\n",
    "\n",
    "print(f\"# of estimators: {1339}\\t out-of-sample RMSE: {rmse}\")\n",
    "    "
   ]
  },
  {
   "attachments": {},
   "cell_type": "markdown",
   "metadata": {},
   "source": [
    "**Random Forest Regressor, Results**\n",
    "\n",
    "After trying different values, we see that the greatest number for the number of estimators (`e=1339`) was the best performer, though it seems that after `e=270`, we see diminishing returns.\n",
    "\n",
    "Running the fitted model on our test data, we get a worse performance on this out-of-sample data, as expected. In fact, our Random Forest actually underperforms our Linear Model slightly, falling victim to seemingly overfitting on our training set. \n",
    "\n",
    "Looking at our list of feature importances, we see an interest divergence from the findings of the Linear Regression. Our Random Forest model seems to think that vertical movement (`pfx_z`) is the most important feature, along with `release_extension` and `release_spin_rate`. Could it be that spin rates are related to vertical movement and thus, pitch performance? Or, is it more likely that some of these variables are assigned outsized weights, contributing to our problem of overfitting that seems to be dragging down the performance of the model. In the next iteration of this model, we would want to focus on introducing pruning and seeing if getting less complex could result in a more robust model. "
   ]
  },
  {
   "cell_type": "code",
   "execution_count": 280,
   "metadata": {},
   "outputs": [
    {
     "data": {
      "image/png": "[encoded data removed]",
      "text/plain": [
       "<Figure size 640x480 with 1 Axes>"
      ]
     },
     "metadata": {},
     "output_type": "display_data"
    }
   ],
   "source": [
    "\n",
    "forest_importances = pd.Series(model.feature_importances_, index=list(X.columns))\n",
    "\n",
    "fig, ax = plt.subplots()\n",
    "forest_importances.plot.bar(yerr=std, ax=ax)\n",
    "ax.set_title(\"Feature importances Random Forest\")\n",
    "fig.tight_layout()"
   ]
  },
  {
   "attachments": {},
   "cell_type": "markdown",
   "metadata": {},
   "source": [
    "**Conclusions**\n",
    "\n",
    "Comparing the two models, it's not difficult to conclude that with ability to achieve feature shrinkage, the Linear Regression model is the better performer. Looking at the feature importance in the Random Forest, we can see that almost all the features have relatively similar importance, making our model vulerable to outliers, especially with a smaller data set. \n",
    "\n",
    "Going forward, it would be exciting to explore some feature engineering, doing more EDA on spin rates, and deriving more patterns on release positioning, and potentailly including more columns from our original data source as worthy features. \n",
    "\n",
    "Model wise, we can see that the Random Forest Regressor has great potential, but needs to utilize some degree of pruning. Additionally, implementing a grid search to do hyperparameter tuning would be an effective improvement, representing a low-hanging fruit. "
   ]
  },
  {
   "attachments": {},
   "cell_type": "markdown",
   "metadata": {},
   "source": [
    "**References**\n",
    "\n",
    "Video of Kodai Senga demonstrating breaking pitches, via @PitchingNinja: https://www.youtube.com/watch?v=riJKj5_ZoNc\n",
    "\n",
    "Baseball Savant example page: https://baseballsavant.mlb.com/illustrator?playerId=668678&playerType=pitcher&name=Zac%20Gallen&tabSelection=1&shape=square&shapeName=Square%20(Instagram)&subTitle=&chartType=pitchChart-pitchName&chartName=Pitch%20Types&pitcherThrows=&batterStands=&plateAppearanceResults=[]&pitchTypes=[]&seasonType=[%22R%22]&pitchResults=[]&facingPlayer=[]&balls=[]&battedBallType=[]&years=[2023]&strikes=[]&outs=[]&selectedGames=[%22717955%22]&homeTeam=[]&awayTeam=[]&vsTeam=[]&exitVelocityGT=0&exitVelocityLT=125&pitchVelocityGT=0&pitchVelocityLT=105&launchAngleGT=-90&launchAngleLT=90&perspective=catcher"
   ]
  },
  {
   "cell_type": "code",
   "execution_count": null,
   "metadata": {},
   "outputs": [],
   "source": []
  }
 ],
 "metadata": {
  "kernelspec": {
   "display_name": "analytics",
   "language": "python",
   "name": "python3"
  },
  "language_info": {
   "codemirror_mode": {
    "name": "ipython",
    "version": 3
   },
   "file_extension": ".py",
   "mimetype": "text/x-python",
   "name": "python",
   "nbconvert_exporter": "python",
   "pygments_lexer": "ipython3",
   "version": "3.10.7"
  },
  "orig_nbformat": 4
 },
 "nbformat": 4,
 "nbformat_minor": 2
}
